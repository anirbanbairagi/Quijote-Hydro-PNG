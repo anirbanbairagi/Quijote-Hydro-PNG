{
 "cells": [
  {
   "cell_type": "code",
   "execution_count": 1,
   "id": "d0e699a1-a520-4d0e-8e28-f11c2752b369",
   "metadata": {
    "tags": []
   },
   "outputs": [],
   "source": [
    "f_snap = '/home/jovyan/L501P/1P_LC_0_50/groups_000/fof_subhalo_tab_000.0.hdf5'"
   ]
  },
  {
   "cell_type": "code",
   "execution_count": null,
   "id": "35a6d343-990e-426e-b084-66e8f5e76b9e",
   "metadata": {},
   "outputs": [],
   "source": []
  }
 ],
 "metadata": {
  "kernelspec": {
   "display_name": "Python 3 (ipykernel)",
   "language": "python",
   "name": "python3"
  },
  "language_info": {
   "codemirror_mode": {
    "name": "ipython",
    "version": 3
   },
   "file_extension": ".py",
   "mimetype": "text/x-python",
   "name": "python",
   "nbconvert_exporter": "python",
   "pygments_lexer": "ipython3",
   "version": "3.9.15"
  }
 },
 "nbformat": 4,
 "nbformat_minor": 5
}
